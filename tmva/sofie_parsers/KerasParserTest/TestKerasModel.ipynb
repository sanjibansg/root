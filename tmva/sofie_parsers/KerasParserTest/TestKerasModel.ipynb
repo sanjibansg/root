{
 "cells": [
  {
   "cell_type": "code",
   "execution_count": 1,
   "id": "28235e38",
   "metadata": {},
   "outputs": [
    {
     "name": "stderr",
     "output_type": "stream",
     "text": [
      "2025-06-12 12:48:03.159232: I tensorflow/core/util/port.cc:110] oneDNN custom operations are on. You may see slightly different numerical results due to floating-point round-off errors from different computation orders. To turn them off, set the environment variable `TF_ENABLE_ONEDNN_OPTS=0`.\n",
      "2025-06-12 12:48:03.160765: I tensorflow/tsl/cuda/cudart_stub.cc:28] Could not find cuda drivers on your machine, GPU will not be used.\n",
      "2025-06-12 12:48:03.198995: I tensorflow/tsl/cuda/cudart_stub.cc:28] Could not find cuda drivers on your machine, GPU will not be used.\n",
      "2025-06-12 12:48:03.199953: I tensorflow/core/platform/cpu_feature_guard.cc:182] This TensorFlow binary is optimized to use available CPU instructions in performance-critical operations.\n",
      "To enable the following instructions: AVX2 AVX_VNNI FMA, in other operations, rebuild TensorFlow with the appropriate compiler flags.\n",
      "2025-06-12 12:48:04.018022: W tensorflow/compiler/tf2tensorrt/utils/py_utils.cc:38] TF-TRT Warning: Could not find TensorRT\n"
     ]
    }
   ],
   "source": [
    "from tensorflow import keras\n",
    "import os\n",
    "import ROOT\n",
    "from ROOT import TMVA\n",
    "import numpy as np\n",
    "import math\n",
    "import time"
   ]
  },
  {
   "cell_type": "code",
   "execution_count": 2,
   "id": "8f27126f",
   "metadata": {},
   "outputs": [
    {
     "name": "stdout",
     "output_type": "stream",
     "text": [
      "Generating inference code for the Keras model from  ReLU_test.h5 in the header  ReLU_test.hxx\n",
      "compiling SOFIE model  ReLU_test\n",
      "fraction of equal elements in the results vector = 100.0%\n"
     ]
    }
   ],
   "source": [
    "modelFile = \"ReLU_test.h5\"\n",
    "rmodel = ROOT.TMVA.Experimental.SOFIE.RModelParser_Keras.Parse(modelFile)\n",
    "generatedHeaderFile = modelFile.replace(\".h5\",\".hxx\")\n",
    "print(\"Generating inference code for the Keras model from \",modelFile,\"in the header \", generatedHeaderFile)\n",
    "rmodel.Generate()\n",
    "rmodel.OutputGenerated(generatedHeaderFile)\n",
    "\n",
    "modelName = modelFile.replace(\".h5\",\"\")\n",
    "print(\"compiling SOFIE model \", modelName)\n",
    "ret = ROOT.gInterpreter.Declare('#include \"' + generatedHeaderFile + '\"')\n",
    "if not ret:\n",
    "    print(\"Error compiling header file \", generatedHeaderFile)\n",
    "    exit()\n",
    "session = ROOT.TMVA_SOFIE_ReLU_test.Session()\n",
    "input_test = np.ones((1,7), dtype = 'float32')\n",
    "result = session.infer(input_test)\n",
    "keras_model = keras.models.load_model(modelFile)\n",
    "keras_model.load_weights(modelFile)\n",
    "keras_result = keras_model(input_test)\n",
    "#We lower the precision because keras provides slightly better precision\n",
    "accuracy = np.mean(np.asarray(result).astype('float16') == np.asarray(keras_result).astype('float16'))\n",
    "print(\"fraction of equal elements in the results vector = {}%\".format(100*accuracy))"
   ]
  },
  {
   "cell_type": "code",
   "execution_count": 3,
   "id": "909fa6a9",
   "metadata": {},
   "outputs": [
    {
     "name": "stdout",
     "output_type": "stream",
     "text": [
      "Generating inference code for the Keras model from  Tanh_test.h5 in the header  Tanh_test.hxx\n"
     ]
    }
   ],
   "source": [
    "modelFile = \"Tanh_test.h5\"\n",
    "rmodel = ROOT.TMVA.Experimental.SOFIE.RModelParser_Keras.Parse(modelFile)\n",
    "generatedHeaderFile = modelFile.replace(\".h5\",\".hxx\")\n",
    "print(\"Generating inference code for the Keras model from \",modelFile,\"in the header \", generatedHeaderFile)\n",
    "rmodel.Generate()\n",
    "rmodel.OutputGenerated(generatedHeaderFile)"
   ]
  },
  {
   "cell_type": "code",
   "execution_count": 4,
   "id": "3a874173",
   "metadata": {},
   "outputs": [
    {
     "name": "stdout",
     "output_type": "stream",
     "text": [
      "Generating inference code for the Keras model from  Softmax_test.h5 in the header  Softmax_test.hxx\n"
     ]
    }
   ],
   "source": [
    "modelFile = \"Softmax_test.h5\"\n",
    "rmodel = ROOT.TMVA.Experimental.SOFIE.RModelParser_Keras.Parse(modelFile)\n",
    "generatedHeaderFile = modelFile.replace(\".h5\",\".hxx\")\n",
    "print(\"Generating inference code for the Keras model from \",modelFile,\"in the header \", generatedHeaderFile)\n",
    "rmodel.Generate()\n",
    "rmodel.OutputGenerated(generatedHeaderFile)"
   ]
  },
  {
   "cell_type": "code",
   "execution_count": 5,
   "id": "ab8765e7",
   "metadata": {},
   "outputs": [
    {
     "name": "stdout",
     "output_type": "stream",
     "text": [
      "Generating inference code for the Keras model from  Sigmoid_test.h5 in the header  Sigmoid_test.hxx\n"
     ]
    }
   ],
   "source": [
    "modelFile = \"Sigmoid_test.h5\"\n",
    "rmodel = ROOT.TMVA.Experimental.SOFIE.RModelParser_Keras.Parse(modelFile)\n",
    "generatedHeaderFile = modelFile.replace(\".h5\",\".hxx\")\n",
    "print(\"Generating inference code for the Keras model from \",modelFile,\"in the header \", generatedHeaderFile)\n",
    "rmodel.Generate()\n",
    "rmodel.OutputGenerated(generatedHeaderFile)"
   ]
  },
  {
   "cell_type": "code",
   "execution_count": 6,
   "id": "16900f21",
   "metadata": {},
   "outputs": [
    {
     "name": "stdout",
     "output_type": "stream",
     "text": [
      "Generating inference code for the Keras model from  Selu_test.h5 in the header  Selu_test.hxx\n"
     ]
    }
   ],
   "source": [
    "modelFile = \"Selu_test.h5\"\n",
    "rmodel = ROOT.TMVA.Experimental.SOFIE.RModelParser_Keras.Parse(modelFile)\n",
    "generatedHeaderFile = modelFile.replace(\".h5\",\".hxx\")\n",
    "print(\"Generating inference code for the Keras model from \",modelFile,\"in the header \", generatedHeaderFile)\n",
    "rmodel.Generate()\n",
    "rmodel.OutputGenerated(generatedHeaderFile)"
   ]
  },
  {
   "cell_type": "code",
   "execution_count": 3,
   "id": "7f26507b",
   "metadata": {},
   "outputs": [
    {
     "name": "stdout",
     "output_type": "stream",
     "text": [
      "Generating inference code for the Keras model from  LeakyReLU_test.h5 in the header  LeakyReLU_test.hxx\n"
     ]
    }
   ],
   "source": [
    "modelFile = \"LeakyReLU_test.h5\"\n",
    "rmodel = ROOT.TMVA.Experimental.SOFIE.RModelParser_Keras.Parse(modelFile)\n",
    "generatedHeaderFile = modelFile.replace(\".h5\",\".hxx\")\n",
    "print(\"Generating inference code for the Keras model from \",modelFile,\"in the header \", generatedHeaderFile)\n",
    "rmodel.Generate()\n",
    "rmodel.OutputGenerated(generatedHeaderFile)"
   ]
  },
  {
   "cell_type": "code",
   "execution_count": null,
   "id": "e57276fc",
   "metadata": {},
   "outputs": [
    {
     "name": "stdout",
     "output_type": "stream",
     "text": [
      "Generating inference code for the Keras model from  BatchNormalization_test.h5 in the header  BatchNormalization_test.hxx\n"
     ]
    }
   ],
   "source": [
    "modelFile = \"BatchNormalization_test.h5\"\n",
    "rmodel = ROOT.TMVA.Experimental.SOFIE.RModelParser_Keras.Parse(modelFile)\n",
    "generatedHeaderFile = modelFile.replace(\".h5\",\".hxx\")\n",
    "print(\"Generating inference code for the Keras model from \",modelFile,\"in the header \", generatedHeaderFile)\n",
    "rmodel.Generate()\n",
    "rmodel.OutputGenerated(generatedHeaderFile)"
   ]
  },
  {
   "cell_type": "code",
   "execution_count": null,
   "id": "94605a89",
   "metadata": {},
   "outputs": [
    {
     "name": "stdout",
     "output_type": "stream",
     "text": [
      "Generating inference code for the Keras model from  LSTM_test.h5 in the header  LSTM_test.hxx\n"
     ]
    }
   ],
   "source": [
    "modelFile = \"LSTM_test.h5\"\n",
    "rmodel = ROOT.TMVA.Experimental.SOFIE.RModelParser_Keras.Parse(modelFile)\n",
    "generatedHeaderFile = modelFile.replace(\".h5\",\".hxx\")\n",
    "print(\"Generating inference code for the Keras model from \",modelFile,\"in the header \", generatedHeaderFile)\n",
    "rmodel.Generate()\n",
    "rmodel.OutputGenerated(generatedHeaderFile)"
   ]
  },
  {
   "cell_type": "code",
   "execution_count": null,
   "id": "f7099c19",
   "metadata": {},
   "outputs": [
    {
     "name": "stdout",
     "output_type": "stream",
     "text": [
      "Generating inference code for the Keras model from  LSTM_with_bias_test.h5 in the header  LSTM_with_bias_test.hxx\n"
     ]
    }
   ],
   "source": [
    "modelFile = \"LSTM_with_bias_test.h5\"\n",
    "rmodel = ROOT.TMVA.Experimental.SOFIE.RModelParser_Keras.Parse(modelFile)\n",
    "generatedHeaderFile = modelFile.replace(\".h5\",\".hxx\")\n",
    "print(\"Generating inference code for the Keras model from \",modelFile,\"in the header \", generatedHeaderFile)\n",
    "rmodel.Generate()\n",
    "rmodel.OutputGenerated(generatedHeaderFile)"
   ]
  },
  {
   "cell_type": "code",
   "execution_count": null,
   "id": "9a08c443",
   "metadata": {},
   "outputs": [
    {
     "ename": "TypeError",
     "evalue": "none of the 4 overloaded methods succeeded. Full details:\n  ROperator_GRU<float>::ROperator_GRU<float>(TMVA::Experimental::SOFIE::ROperator_GRU<float>&&) =>\n    TypeError: takes at most 1 arguments (16 given)\n  ROperator_GRU<float>::ROperator_GRU<float>(const TMVA::Experimental::SOFIE::ROperator_GRU<float>&) =>\n    TypeError: takes at most 1 arguments (16 given)\n  ROperator_GRU<float>::ROperator_GRU<float>() =>\n    TypeError: takes at most 0 arguments (16 given)\n  ROperator_GRU<float>::ROperator_GRU<float>(vector<float> activation_alpha, vector<float> activation_beta, vector<string> activations, float clip, string direction, size_t hidden_size, size_t layout, size_t linear_before_reset, string nameX, string nameW, string nameR, string nameB, string nameSequence_lens, string nameInitial_h, string nameY, string nameY_h) =>\n    TypeError: could not convert argument 1",
     "output_type": "error",
     "traceback": [
      "\u001b[0;31m---------------------------------------------------------------------------\u001b[0m",
      "\u001b[0;31mTypeError\u001b[0m                                 Traceback (most recent call last)",
      "Cell \u001b[0;32mIn[15], line 2\u001b[0m\n\u001b[1;32m      1\u001b[0m modelFile \u001b[38;5;241m=\u001b[39m \u001b[38;5;124m\"\u001b[39m\u001b[38;5;124mGRU_test.h5\u001b[39m\u001b[38;5;124m\"\u001b[39m\n\u001b[0;32m----> 2\u001b[0m rmodel \u001b[38;5;241m=\u001b[39m \u001b[43mROOT\u001b[49m\u001b[38;5;241;43m.\u001b[39;49m\u001b[43mTMVA\u001b[49m\u001b[38;5;241;43m.\u001b[39;49m\u001b[43mExperimental\u001b[49m\u001b[38;5;241;43m.\u001b[39;49m\u001b[43mSOFIE\u001b[49m\u001b[38;5;241;43m.\u001b[39;49m\u001b[43mRModelParser_Keras\u001b[49m\u001b[38;5;241;43m.\u001b[39;49m\u001b[43mParse\u001b[49m\u001b[43m(\u001b[49m\u001b[43mmodelFile\u001b[49m\u001b[43m)\u001b[49m\n\u001b[1;32m      3\u001b[0m generatedHeaderFile \u001b[38;5;241m=\u001b[39m modelFile\u001b[38;5;241m.\u001b[39mreplace(\u001b[38;5;124m\"\u001b[39m\u001b[38;5;124m.h5\u001b[39m\u001b[38;5;124m\"\u001b[39m,\u001b[38;5;124m\"\u001b[39m\u001b[38;5;124m.hxx\u001b[39m\u001b[38;5;124m\"\u001b[39m)\n\u001b[1;32m      4\u001b[0m \u001b[38;5;28mprint\u001b[39m(\u001b[38;5;124m\"\u001b[39m\u001b[38;5;124mGenerating inference code for the Keras model from \u001b[39m\u001b[38;5;124m\"\u001b[39m,modelFile,\u001b[38;5;124m\"\u001b[39m\u001b[38;5;124min the header \u001b[39m\u001b[38;5;124m\"\u001b[39m, generatedHeaderFile)\n",
      "File \u001b[0;32m~/RootDevelopment/build/lib/ROOT/_pythonization/_tmva/_rmodel_keras.py:892\u001b[0m, in \u001b[0;36mRModelParser_Keras.Parse\u001b[0;34m(filename)\u001b[0m\n\u001b[1;32m    890\u001b[0m     \u001b[38;5;28;01melif\u001b[39;00m (fLayerType \u001b[38;5;241m==\u001b[39m \u001b[38;5;124m\"\u001b[39m\u001b[38;5;124mConv1D\u001b[39m\u001b[38;5;124m\"\u001b[39m \u001b[38;5;129;01mor\u001b[39;00m fLayerType \u001b[38;5;241m==\u001b[39m \u001b[38;5;124m\"\u001b[39m\u001b[38;5;124mConv2D\u001b[39m\u001b[38;5;124m\"\u001b[39m \u001b[38;5;129;01mor\u001b[39;00m fLayerType \u001b[38;5;241m==\u001b[39m \u001b[38;5;124m\"\u001b[39m\u001b[38;5;124mConv3D\u001b[39m\u001b[38;5;124m\"\u001b[39m):\n\u001b[1;32m    891\u001b[0m         rmodel\u001b[38;5;241m.\u001b[39mAddBlasRoutines({\u001b[38;5;124m\"\u001b[39m\u001b[38;5;124mGemm\u001b[39m\u001b[38;5;124m\"\u001b[39m, \u001b[38;5;124m\"\u001b[39m\u001b[38;5;124mAxpy\u001b[39m\u001b[38;5;124m\"\u001b[39m})\n\u001b[0;32m--> 892\u001b[0m     rmodel \u001b[38;5;241m=\u001b[39m \u001b[43madd_layer_into_RModel\u001b[49m\u001b[43m(\u001b[49m\u001b[43mrmodel\u001b[49m\u001b[43m,\u001b[49m\u001b[43m \u001b[49m\u001b[43mlayer_data\u001b[49m\u001b[43m)\u001b[49m\n\u001b[1;32m    894\u001b[0m \u001b[38;5;66;03m# Extracting model's weights\u001b[39;00m\n\u001b[1;32m    895\u001b[0m weight \u001b[38;5;241m=\u001b[39m []\n",
      "File \u001b[0;32m~/RootDevelopment/build/lib/ROOT/_pythonization/_tmva/_rmodel_keras.py:761\u001b[0m, in \u001b[0;36madd_layer_into_RModel\u001b[0;34m(rmodel, layer_data)\u001b[0m\n\u001b[1;32m    759\u001b[0m         outputs[\u001b[38;5;241m0\u001b[39m] \u001b[38;5;241m=\u001b[39m LayerName\u001b[38;5;241m+\u001b[39mfLayerType\n\u001b[1;32m    760\u001b[0m         layer_data[\u001b[38;5;124m'\u001b[39m\u001b[38;5;124mlayerOutput\u001b[39m\u001b[38;5;124m'\u001b[39m] \u001b[38;5;241m=\u001b[39m outputs\n\u001b[0;32m--> 761\u001b[0m rmodel\u001b[38;5;241m.\u001b[39mAddOperatorReference(\u001b[43mmapKerasLayer\u001b[49m\u001b[43m[\u001b[49m\u001b[43mfLayerType\u001b[49m\u001b[43m]\u001b[49m\u001b[43m(\u001b[49m\u001b[43mlayer_data\u001b[49m\u001b[43m)\u001b[49m)\n\u001b[1;32m    762\u001b[0m \u001b[38;5;28;01mif\u001b[39;00m fLayerType \u001b[38;5;241m==\u001b[39m \u001b[38;5;124m'\u001b[39m\u001b[38;5;124mMaxPooling2D\u001b[39m\u001b[38;5;124m'\u001b[39m:\n\u001b[1;32m    763\u001b[0m     \u001b[38;5;28;01mif\u001b[39;00m layer_data[\u001b[38;5;124m'\u001b[39m\u001b[38;5;124mchannels_last\u001b[39m\u001b[38;5;124m'\u001b[39m]:\n",
      "File \u001b[0;32m~/RootDevelopment/build/lib/ROOT/_pythonization/_tmva/_rmodel_keras.py:646\u001b[0m, in \u001b[0;36mMakeKerasRNN\u001b[0;34m(layer)\u001b[0m\n\u001b[1;32m    644\u001b[0m     \u001b[38;5;66;03m#new variable needed:\u001b[39;00m\n\u001b[1;32m    645\u001b[0m     linear_before_reset \u001b[38;5;241m=\u001b[39m attributes[\u001b[38;5;124m'\u001b[39m\u001b[38;5;124mlinear_before_reset\u001b[39m\u001b[38;5;124m'\u001b[39m]\n\u001b[0;32m--> 646\u001b[0m     op \u001b[38;5;241m=\u001b[39m \u001b[43mgbl_namespace\u001b[49m\u001b[38;5;241;43m.\u001b[39;49m\u001b[43mTMVA\u001b[49m\u001b[38;5;241;43m.\u001b[39;49m\u001b[43mExperimental\u001b[49m\u001b[38;5;241;43m.\u001b[39;49m\u001b[43mSOFIE\u001b[49m\u001b[38;5;241;43m.\u001b[39;49m\u001b[43mROperator_GRU\u001b[49m\u001b[43m[\u001b[49m\u001b[38;5;124;43m'\u001b[39;49m\u001b[38;5;124;43mfloat\u001b[39;49m\u001b[38;5;124;43m'\u001b[39;49m\u001b[43m]\u001b[49m\u001b[43m(\u001b[49m\u001b[43mactivation_alpha\u001b[49m\u001b[43m,\u001b[49m\u001b[43m \u001b[49m\u001b[43mactivation_beta\u001b[49m\u001b[43m,\u001b[49m\u001b[43m \u001b[49m\u001b[43mactivations\u001b[49m\u001b[43m,\u001b[49m\u001b[43m \u001b[49m\u001b[43mclip\u001b[49m\u001b[43m,\u001b[49m\u001b[43m \u001b[49m\u001b[43mdirection\u001b[49m\u001b[43m,\u001b[49m\u001b[43m \u001b[49m\u001b[43mhidden_size\u001b[49m\u001b[43m,\u001b[49m\u001b[43m \u001b[49m\u001b[43mlayout\u001b[49m\u001b[43m,\u001b[49m\u001b[43m \u001b[49m\u001b[43mlinear_before_reset\u001b[49m\u001b[43m,\u001b[49m\u001b[43m \u001b[49m\u001b[43mnameX\u001b[49m\u001b[43m,\u001b[49m\u001b[43m \u001b[49m\u001b[43mnameW\u001b[49m\u001b[43m,\u001b[49m\u001b[43m \u001b[49m\u001b[43mnameR\u001b[49m\u001b[43m,\u001b[49m\u001b[43m \u001b[49m\u001b[43mnameB\u001b[49m\u001b[43m,\u001b[49m\u001b[43m \u001b[49m\u001b[43mname_seq_len\u001b[49m\u001b[43m,\u001b[49m\u001b[43m \u001b[49m\u001b[43mnameInitial_h\u001b[49m\u001b[43m,\u001b[49m\u001b[43m \u001b[49m\u001b[43mnameY\u001b[49m\u001b[43m,\u001b[49m\u001b[43m \u001b[49m\u001b[43mnameY_h\u001b[49m\u001b[43m)\u001b[49m\n\u001b[1;32m    648\u001b[0m \u001b[38;5;28;01melif\u001b[39;00m layer[\u001b[38;5;124m'\u001b[39m\u001b[38;5;124mlayerType\u001b[39m\u001b[38;5;124m'\u001b[39m] \u001b[38;5;241m==\u001b[39m \u001b[38;5;124m\"\u001b[39m\u001b[38;5;124mLSTM\u001b[39m\u001b[38;5;124m\"\u001b[39m:\n\u001b[1;32m    649\u001b[0m     \u001b[38;5;66;03m#an additional activation function is required, the first given by the user, the second set to tanh as default\u001b[39;00m\n\u001b[1;32m    650\u001b[0m     fPRecurrentActivation \u001b[38;5;241m=\u001b[39m attributes[\u001b[38;5;124m'\u001b[39m\u001b[38;5;124mrecurrent_activation\u001b[39m\u001b[38;5;124m'\u001b[39m]\n",
      "\u001b[0;31mTypeError\u001b[0m: none of the 4 overloaded methods succeeded. Full details:\n  ROperator_GRU<float>::ROperator_GRU<float>(TMVA::Experimental::SOFIE::ROperator_GRU<float>&&) =>\n    TypeError: takes at most 1 arguments (16 given)\n  ROperator_GRU<float>::ROperator_GRU<float>(const TMVA::Experimental::SOFIE::ROperator_GRU<float>&) =>\n    TypeError: takes at most 1 arguments (16 given)\n  ROperator_GRU<float>::ROperator_GRU<float>() =>\n    TypeError: takes at most 0 arguments (16 given)\n  ROperator_GRU<float>::ROperator_GRU<float>(vector<float> activation_alpha, vector<float> activation_beta, vector<string> activations, float clip, string direction, size_t hidden_size, size_t layout, size_t linear_before_reset, string nameX, string nameW, string nameR, string nameB, string nameSequence_lens, string nameInitial_h, string nameY, string nameY_h) =>\n    TypeError: could not convert argument 1"
     ]
    }
   ],
   "source": [
    "modelFile = \"GRU_test.h5\"\n",
    "rmodel = ROOT.TMVA.Experimental.SOFIE.RModelParser_Keras.Parse(modelFile)\n",
    "generatedHeaderFile = modelFile.replace(\".h5\",\".hxx\")\n",
    "print(\"Generating inference code for the Keras model from \",modelFile,\"in the header \", generatedHeaderFile)\n",
    "rmodel.Generate()\n",
    "rmodel.OutputGenerated(generatedHeaderFile)"
   ]
  },
  {
   "cell_type": "code",
   "execution_count": null,
   "id": "2b26202f",
   "metadata": {},
   "outputs": [
    {
     "ename": "TypeError",
     "evalue": "none of the 4 overloaded methods succeeded. Full details:\n  ROperator_GRU<float>::ROperator_GRU<float>(TMVA::Experimental::SOFIE::ROperator_GRU<float>&&) =>\n    TypeError: takes at most 1 arguments (16 given)\n  ROperator_GRU<float>::ROperator_GRU<float>(const TMVA::Experimental::SOFIE::ROperator_GRU<float>&) =>\n    TypeError: takes at most 1 arguments (16 given)\n  ROperator_GRU<float>::ROperator_GRU<float>() =>\n    TypeError: takes at most 0 arguments (16 given)\n  ROperator_GRU<float>::ROperator_GRU<float>(vector<float> activation_alpha, vector<float> activation_beta, vector<string> activations, float clip, string direction, size_t hidden_size, size_t layout, size_t linear_before_reset, string nameX, string nameW, string nameR, string nameB, string nameSequence_lens, string nameInitial_h, string nameY, string nameY_h) =>\n    TypeError: could not convert argument 1",
     "output_type": "error",
     "traceback": [
      "\u001b[0;31m---------------------------------------------------------------------------\u001b[0m",
      "\u001b[0;31mTypeError\u001b[0m                                 Traceback (most recent call last)",
      "Cell \u001b[0;32mIn[16], line 2\u001b[0m\n\u001b[1;32m      1\u001b[0m modelFile \u001b[38;5;241m=\u001b[39m \u001b[38;5;124m\"\u001b[39m\u001b[38;5;124mGRU_with_bias_test.h5\u001b[39m\u001b[38;5;124m\"\u001b[39m\n\u001b[0;32m----> 2\u001b[0m rmodel \u001b[38;5;241m=\u001b[39m \u001b[43mROOT\u001b[49m\u001b[38;5;241;43m.\u001b[39;49m\u001b[43mTMVA\u001b[49m\u001b[38;5;241;43m.\u001b[39;49m\u001b[43mExperimental\u001b[49m\u001b[38;5;241;43m.\u001b[39;49m\u001b[43mSOFIE\u001b[49m\u001b[38;5;241;43m.\u001b[39;49m\u001b[43mRModelParser_Keras\u001b[49m\u001b[38;5;241;43m.\u001b[39;49m\u001b[43mParse\u001b[49m\u001b[43m(\u001b[49m\u001b[43mmodelFile\u001b[49m\u001b[43m)\u001b[49m\n\u001b[1;32m      3\u001b[0m generatedHeaderFile \u001b[38;5;241m=\u001b[39m modelFile\u001b[38;5;241m.\u001b[39mreplace(\u001b[38;5;124m\"\u001b[39m\u001b[38;5;124m.h5\u001b[39m\u001b[38;5;124m\"\u001b[39m,\u001b[38;5;124m\"\u001b[39m\u001b[38;5;124m.hxx\u001b[39m\u001b[38;5;124m\"\u001b[39m)\n\u001b[1;32m      4\u001b[0m \u001b[38;5;28mprint\u001b[39m(\u001b[38;5;124m\"\u001b[39m\u001b[38;5;124mGenerating inference code for the Keras model from \u001b[39m\u001b[38;5;124m\"\u001b[39m,modelFile,\u001b[38;5;124m\"\u001b[39m\u001b[38;5;124min the header \u001b[39m\u001b[38;5;124m\"\u001b[39m, generatedHeaderFile)\n",
      "File \u001b[0;32m~/RootDevelopment/build/lib/ROOT/_pythonization/_tmva/_rmodel_keras.py:892\u001b[0m, in \u001b[0;36mRModelParser_Keras.Parse\u001b[0;34m(filename)\u001b[0m\n\u001b[1;32m    890\u001b[0m     \u001b[38;5;28;01melif\u001b[39;00m (fLayerType \u001b[38;5;241m==\u001b[39m \u001b[38;5;124m\"\u001b[39m\u001b[38;5;124mConv1D\u001b[39m\u001b[38;5;124m\"\u001b[39m \u001b[38;5;129;01mor\u001b[39;00m fLayerType \u001b[38;5;241m==\u001b[39m \u001b[38;5;124m\"\u001b[39m\u001b[38;5;124mConv2D\u001b[39m\u001b[38;5;124m\"\u001b[39m \u001b[38;5;129;01mor\u001b[39;00m fLayerType \u001b[38;5;241m==\u001b[39m \u001b[38;5;124m\"\u001b[39m\u001b[38;5;124mConv3D\u001b[39m\u001b[38;5;124m\"\u001b[39m):\n\u001b[1;32m    891\u001b[0m         rmodel\u001b[38;5;241m.\u001b[39mAddBlasRoutines({\u001b[38;5;124m\"\u001b[39m\u001b[38;5;124mGemm\u001b[39m\u001b[38;5;124m\"\u001b[39m, \u001b[38;5;124m\"\u001b[39m\u001b[38;5;124mAxpy\u001b[39m\u001b[38;5;124m\"\u001b[39m})\n\u001b[0;32m--> 892\u001b[0m     rmodel \u001b[38;5;241m=\u001b[39m \u001b[43madd_layer_into_RModel\u001b[49m\u001b[43m(\u001b[49m\u001b[43mrmodel\u001b[49m\u001b[43m,\u001b[49m\u001b[43m \u001b[49m\u001b[43mlayer_data\u001b[49m\u001b[43m)\u001b[49m\n\u001b[1;32m    894\u001b[0m \u001b[38;5;66;03m# Extracting model's weights\u001b[39;00m\n\u001b[1;32m    895\u001b[0m weight \u001b[38;5;241m=\u001b[39m []\n",
      "File \u001b[0;32m~/RootDevelopment/build/lib/ROOT/_pythonization/_tmva/_rmodel_keras.py:761\u001b[0m, in \u001b[0;36madd_layer_into_RModel\u001b[0;34m(rmodel, layer_data)\u001b[0m\n\u001b[1;32m    759\u001b[0m         outputs[\u001b[38;5;241m0\u001b[39m] \u001b[38;5;241m=\u001b[39m LayerName\u001b[38;5;241m+\u001b[39mfLayerType\n\u001b[1;32m    760\u001b[0m         layer_data[\u001b[38;5;124m'\u001b[39m\u001b[38;5;124mlayerOutput\u001b[39m\u001b[38;5;124m'\u001b[39m] \u001b[38;5;241m=\u001b[39m outputs\n\u001b[0;32m--> 761\u001b[0m rmodel\u001b[38;5;241m.\u001b[39mAddOperatorReference(\u001b[43mmapKerasLayer\u001b[49m\u001b[43m[\u001b[49m\u001b[43mfLayerType\u001b[49m\u001b[43m]\u001b[49m\u001b[43m(\u001b[49m\u001b[43mlayer_data\u001b[49m\u001b[43m)\u001b[49m)\n\u001b[1;32m    762\u001b[0m \u001b[38;5;28;01mif\u001b[39;00m fLayerType \u001b[38;5;241m==\u001b[39m \u001b[38;5;124m'\u001b[39m\u001b[38;5;124mMaxPooling2D\u001b[39m\u001b[38;5;124m'\u001b[39m:\n\u001b[1;32m    763\u001b[0m     \u001b[38;5;28;01mif\u001b[39;00m layer_data[\u001b[38;5;124m'\u001b[39m\u001b[38;5;124mchannels_last\u001b[39m\u001b[38;5;124m'\u001b[39m]:\n",
      "File \u001b[0;32m~/RootDevelopment/build/lib/ROOT/_pythonization/_tmva/_rmodel_keras.py:646\u001b[0m, in \u001b[0;36mMakeKerasRNN\u001b[0;34m(layer)\u001b[0m\n\u001b[1;32m    644\u001b[0m     \u001b[38;5;66;03m#new variable needed:\u001b[39;00m\n\u001b[1;32m    645\u001b[0m     linear_before_reset \u001b[38;5;241m=\u001b[39m attributes[\u001b[38;5;124m'\u001b[39m\u001b[38;5;124mlinear_before_reset\u001b[39m\u001b[38;5;124m'\u001b[39m]\n\u001b[0;32m--> 646\u001b[0m     op \u001b[38;5;241m=\u001b[39m \u001b[43mgbl_namespace\u001b[49m\u001b[38;5;241;43m.\u001b[39;49m\u001b[43mTMVA\u001b[49m\u001b[38;5;241;43m.\u001b[39;49m\u001b[43mExperimental\u001b[49m\u001b[38;5;241;43m.\u001b[39;49m\u001b[43mSOFIE\u001b[49m\u001b[38;5;241;43m.\u001b[39;49m\u001b[43mROperator_GRU\u001b[49m\u001b[43m[\u001b[49m\u001b[38;5;124;43m'\u001b[39;49m\u001b[38;5;124;43mfloat\u001b[39;49m\u001b[38;5;124;43m'\u001b[39;49m\u001b[43m]\u001b[49m\u001b[43m(\u001b[49m\u001b[43mactivation_alpha\u001b[49m\u001b[43m,\u001b[49m\u001b[43m \u001b[49m\u001b[43mactivation_beta\u001b[49m\u001b[43m,\u001b[49m\u001b[43m \u001b[49m\u001b[43mactivations\u001b[49m\u001b[43m,\u001b[49m\u001b[43m \u001b[49m\u001b[43mclip\u001b[49m\u001b[43m,\u001b[49m\u001b[43m \u001b[49m\u001b[43mdirection\u001b[49m\u001b[43m,\u001b[49m\u001b[43m \u001b[49m\u001b[43mhidden_size\u001b[49m\u001b[43m,\u001b[49m\u001b[43m \u001b[49m\u001b[43mlayout\u001b[49m\u001b[43m,\u001b[49m\u001b[43m \u001b[49m\u001b[43mlinear_before_reset\u001b[49m\u001b[43m,\u001b[49m\u001b[43m \u001b[49m\u001b[43mnameX\u001b[49m\u001b[43m,\u001b[49m\u001b[43m \u001b[49m\u001b[43mnameW\u001b[49m\u001b[43m,\u001b[49m\u001b[43m \u001b[49m\u001b[43mnameR\u001b[49m\u001b[43m,\u001b[49m\u001b[43m \u001b[49m\u001b[43mnameB\u001b[49m\u001b[43m,\u001b[49m\u001b[43m \u001b[49m\u001b[43mname_seq_len\u001b[49m\u001b[43m,\u001b[49m\u001b[43m \u001b[49m\u001b[43mnameInitial_h\u001b[49m\u001b[43m,\u001b[49m\u001b[43m \u001b[49m\u001b[43mnameY\u001b[49m\u001b[43m,\u001b[49m\u001b[43m \u001b[49m\u001b[43mnameY_h\u001b[49m\u001b[43m)\u001b[49m\n\u001b[1;32m    648\u001b[0m \u001b[38;5;28;01melif\u001b[39;00m layer[\u001b[38;5;124m'\u001b[39m\u001b[38;5;124mlayerType\u001b[39m\u001b[38;5;124m'\u001b[39m] \u001b[38;5;241m==\u001b[39m \u001b[38;5;124m\"\u001b[39m\u001b[38;5;124mLSTM\u001b[39m\u001b[38;5;124m\"\u001b[39m:\n\u001b[1;32m    649\u001b[0m     \u001b[38;5;66;03m#an additional activation function is required, the first given by the user, the second set to tanh as default\u001b[39;00m\n\u001b[1;32m    650\u001b[0m     fPRecurrentActivation \u001b[38;5;241m=\u001b[39m attributes[\u001b[38;5;124m'\u001b[39m\u001b[38;5;124mrecurrent_activation\u001b[39m\u001b[38;5;124m'\u001b[39m]\n",
      "\u001b[0;31mTypeError\u001b[0m: none of the 4 overloaded methods succeeded. Full details:\n  ROperator_GRU<float>::ROperator_GRU<float>(TMVA::Experimental::SOFIE::ROperator_GRU<float>&&) =>\n    TypeError: takes at most 1 arguments (16 given)\n  ROperator_GRU<float>::ROperator_GRU<float>(const TMVA::Experimental::SOFIE::ROperator_GRU<float>&) =>\n    TypeError: takes at most 1 arguments (16 given)\n  ROperator_GRU<float>::ROperator_GRU<float>() =>\n    TypeError: takes at most 0 arguments (16 given)\n  ROperator_GRU<float>::ROperator_GRU<float>(vector<float> activation_alpha, vector<float> activation_beta, vector<string> activations, float clip, string direction, size_t hidden_size, size_t layout, size_t linear_before_reset, string nameX, string nameW, string nameR, string nameB, string nameSequence_lens, string nameInitial_h, string nameY, string nameY_h) =>\n    TypeError: could not convert argument 1"
     ]
    }
   ],
   "source": [
    "modelFile = \"GRU_with_bias_test.h5\"\n",
    "rmodel = ROOT.TMVA.Experimental.SOFIE.RModelParser_Keras.Parse(modelFile)\n",
    "generatedHeaderFile = modelFile.replace(\".h5\",\".hxx\")\n",
    "print(\"Generating inference code for the Keras model from \",modelFile,\"in the header \", generatedHeaderFile)\n",
    "rmodel.Generate()\n",
    "rmodel.OutputGenerated(generatedHeaderFile)"
   ]
  },
  {
   "cell_type": "code",
   "execution_count": null,
   "id": "2d9cb97f",
   "metadata": {},
   "outputs": [
    {
     "name": "stdout",
     "output_type": "stream",
     "text": [
      "Generating inference code for the Keras model from  Simple_RNN_test.h5 in the header  Simple_RNN_test.hxx\n"
     ]
    }
   ],
   "source": [
    "modelFile = \"Simple_RNN_test.h5\"\n",
    "rmodel = ROOT.TMVA.Experimental.SOFIE.RModelParser_Keras.Parse(modelFile)\n",
    "generatedHeaderFile = modelFile.replace(\".h5\",\".hxx\")\n",
    "print(\"Generating inference code for the Keras model from \",modelFile,\"in the header \", generatedHeaderFile)\n",
    "rmodel.Generate()\n",
    "rmodel.OutputGenerated(generatedHeaderFile)"
   ]
  },
  {
   "cell_type": "code",
   "execution_count": null,
   "id": "cd842bf0",
   "metadata": {},
   "outputs": [
    {
     "name": "stdout",
     "output_type": "stream",
     "text": [
      "Generating inference code for the Keras model from  Simple_RNN_with_bias_test.h5 in the header  Simple_RNN_with_bias_test.hxx\n"
     ]
    }
   ],
   "source": [
    "modelFile = \"Simple_RNN_with_bias_test.h5\"\n",
    "rmodel = ROOT.TMVA.Experimental.SOFIE.RModelParser_Keras.Parse(modelFile)\n",
    "generatedHeaderFile = modelFile.replace(\".h5\",\".hxx\")\n",
    "print(\"Generating inference code for the Keras model from \",modelFile,\"in the header \", generatedHeaderFile)\n",
    "rmodel.Generate()\n",
    "rmodel.OutputGenerated(generatedHeaderFile)"
   ]
  },
  {
   "cell_type": "code",
   "execution_count": null,
   "id": "ff0aeb15",
   "metadata": {},
   "outputs": [
    {
     "ename": "TypeError",
     "evalue": "none of the 5 overloaded methods succeeded. Full details:\n  ROperator_Reshape::ROperator_Reshape(TMVA::Experimental::SOFIE::ROperator_Reshape&&) =>\n    TypeError: could not convert argument 1\n  ROperator_Reshape::ROperator_Reshape(const TMVA::Experimental::SOFIE::ROperator_Reshape&) =>\n    TypeError: could not convert argument 1\n  ROperator_Reshape::ROperator_Reshape() =>\n    TypeError: takes at most 0 arguments (1 given)\n  ROperator_Reshape::ROperator_Reshape(TMVA::Experimental::SOFIE::ReshapeOpMode opMode, vector<int64_t> attrAxes, string nameData, string nameOutput) =>\n    TypeError: takes at least 4 arguments (1 given)\n  ROperator_Reshape::ROperator_Reshape(TMVA::Experimental::SOFIE::ReshapeOpMode opMode, int attr_value, string nameData, string nameShape, string nameOutput) =>\n    TypeError: takes at least 5 arguments (1 given)",
     "output_type": "error",
     "traceback": [
      "\u001b[0;31m---------------------------------------------------------------------------\u001b[0m",
      "\u001b[0;31mTypeError\u001b[0m                                 Traceback (most recent call last)",
      "Cell \u001b[0;32mIn[20], line 2\u001b[0m\n\u001b[1;32m      1\u001b[0m modelFile \u001b[38;5;241m=\u001b[39m \u001b[38;5;124m\"\u001b[39m\u001b[38;5;124mFlatten_test.h5\u001b[39m\u001b[38;5;124m\"\u001b[39m\n\u001b[0;32m----> 2\u001b[0m rmodel \u001b[38;5;241m=\u001b[39m \u001b[43mROOT\u001b[49m\u001b[38;5;241;43m.\u001b[39;49m\u001b[43mTMVA\u001b[49m\u001b[38;5;241;43m.\u001b[39;49m\u001b[43mExperimental\u001b[49m\u001b[38;5;241;43m.\u001b[39;49m\u001b[43mSOFIE\u001b[49m\u001b[38;5;241;43m.\u001b[39;49m\u001b[43mRModelParser_Keras\u001b[49m\u001b[38;5;241;43m.\u001b[39;49m\u001b[43mParse\u001b[49m\u001b[43m(\u001b[49m\u001b[43mmodelFile\u001b[49m\u001b[43m)\u001b[49m\n\u001b[1;32m      3\u001b[0m generatedHeaderFile \u001b[38;5;241m=\u001b[39m modelFile\u001b[38;5;241m.\u001b[39mreplace(\u001b[38;5;124m\"\u001b[39m\u001b[38;5;124m.h5\u001b[39m\u001b[38;5;124m\"\u001b[39m,\u001b[38;5;124m\"\u001b[39m\u001b[38;5;124m.hxx\u001b[39m\u001b[38;5;124m\"\u001b[39m)\n\u001b[1;32m      4\u001b[0m \u001b[38;5;28mprint\u001b[39m(\u001b[38;5;124m\"\u001b[39m\u001b[38;5;124mGenerating inference code for the Keras model from \u001b[39m\u001b[38;5;124m\"\u001b[39m,modelFile,\u001b[38;5;124m\"\u001b[39m\u001b[38;5;124min the header \u001b[39m\u001b[38;5;124m\"\u001b[39m, generatedHeaderFile)\n",
      "File \u001b[0;32m~/RootDevelopment/build/lib/ROOT/_pythonization/_tmva/_rmodel_keras.py:892\u001b[0m, in \u001b[0;36mRModelParser_Keras.Parse\u001b[0;34m(filename)\u001b[0m\n\u001b[1;32m    890\u001b[0m     \u001b[38;5;28;01melif\u001b[39;00m (fLayerType \u001b[38;5;241m==\u001b[39m \u001b[38;5;124m\"\u001b[39m\u001b[38;5;124mConv1D\u001b[39m\u001b[38;5;124m\"\u001b[39m \u001b[38;5;129;01mor\u001b[39;00m fLayerType \u001b[38;5;241m==\u001b[39m \u001b[38;5;124m\"\u001b[39m\u001b[38;5;124mConv2D\u001b[39m\u001b[38;5;124m\"\u001b[39m \u001b[38;5;129;01mor\u001b[39;00m fLayerType \u001b[38;5;241m==\u001b[39m \u001b[38;5;124m\"\u001b[39m\u001b[38;5;124mConv3D\u001b[39m\u001b[38;5;124m\"\u001b[39m):\n\u001b[1;32m    891\u001b[0m         rmodel\u001b[38;5;241m.\u001b[39mAddBlasRoutines({\u001b[38;5;124m\"\u001b[39m\u001b[38;5;124mGemm\u001b[39m\u001b[38;5;124m\"\u001b[39m, \u001b[38;5;124m\"\u001b[39m\u001b[38;5;124mAxpy\u001b[39m\u001b[38;5;124m\"\u001b[39m})\n\u001b[0;32m--> 892\u001b[0m     rmodel \u001b[38;5;241m=\u001b[39m \u001b[43madd_layer_into_RModel\u001b[49m\u001b[43m(\u001b[49m\u001b[43mrmodel\u001b[49m\u001b[43m,\u001b[49m\u001b[43m \u001b[49m\u001b[43mlayer_data\u001b[49m\u001b[43m)\u001b[49m\n\u001b[1;32m    894\u001b[0m \u001b[38;5;66;03m# Extracting model's weights\u001b[39;00m\n\u001b[1;32m    895\u001b[0m weight \u001b[38;5;241m=\u001b[39m []\n",
      "File \u001b[0;32m~/RootDevelopment/build/lib/ROOT/_pythonization/_tmva/_rmodel_keras.py:761\u001b[0m, in \u001b[0;36madd_layer_into_RModel\u001b[0;34m(rmodel, layer_data)\u001b[0m\n\u001b[1;32m    759\u001b[0m         outputs[\u001b[38;5;241m0\u001b[39m] \u001b[38;5;241m=\u001b[39m LayerName\u001b[38;5;241m+\u001b[39mfLayerType\n\u001b[1;32m    760\u001b[0m         layer_data[\u001b[38;5;124m'\u001b[39m\u001b[38;5;124mlayerOutput\u001b[39m\u001b[38;5;124m'\u001b[39m] \u001b[38;5;241m=\u001b[39m outputs\n\u001b[0;32m--> 761\u001b[0m rmodel\u001b[38;5;241m.\u001b[39mAddOperatorReference(\u001b[43mmapKerasLayer\u001b[49m\u001b[43m[\u001b[49m\u001b[43mfLayerType\u001b[49m\u001b[43m]\u001b[49m\u001b[43m(\u001b[49m\u001b[43mlayer_data\u001b[49m\u001b[43m)\u001b[49m)\n\u001b[1;32m    762\u001b[0m \u001b[38;5;28;01mif\u001b[39;00m fLayerType \u001b[38;5;241m==\u001b[39m \u001b[38;5;124m'\u001b[39m\u001b[38;5;124mMaxPooling2D\u001b[39m\u001b[38;5;124m'\u001b[39m:\n\u001b[1;32m    763\u001b[0m     \u001b[38;5;28;01mif\u001b[39;00m layer_data[\u001b[38;5;124m'\u001b[39m\u001b[38;5;124mchannels_last\u001b[39m\u001b[38;5;124m'\u001b[39m]:\n",
      "File \u001b[0;32m~/RootDevelopment/build/lib/ROOT/_pythonization/_tmva/_rmodel_keras.py:108\u001b[0m, in \u001b[0;36mMakeKerasFlatten\u001b[0;34m(layer)\u001b[0m\n\u001b[1;32m    106\u001b[0m fNameOutput \u001b[38;5;241m=\u001b[39m foutput[\u001b[38;5;241m0\u001b[39m]\n\u001b[1;32m    107\u001b[0m fNameShape \u001b[38;5;241m=\u001b[39m flayername \u001b[38;5;241m+\u001b[39m \u001b[38;5;124m\"\u001b[39m\u001b[38;5;124mReshapeAxes\u001b[39m\u001b[38;5;124m\"\u001b[39m\n\u001b[0;32m--> 108\u001b[0m op \u001b[38;5;241m=\u001b[39m \u001b[43mgbl_namespace\u001b[49m\u001b[38;5;241;43m.\u001b[39;49m\u001b[43mTMVA\u001b[49m\u001b[38;5;241;43m.\u001b[39;49m\u001b[43mExperimental\u001b[49m\u001b[38;5;241;43m.\u001b[39;49m\u001b[43mSOFIE\u001b[49m\u001b[38;5;241;43m.\u001b[39;49m\u001b[43mROperator_Reshape\u001b[49m\u001b[43m(\u001b[49m\u001b[38;5;124;43m'\u001b[39;49m\u001b[38;5;124;43mfloat\u001b[39;49m\u001b[38;5;124;43m'\u001b[39;49m\u001b[43m)\u001b[49m(fOpMode, \u001b[38;5;241m0\u001b[39m, fNameData, fNameShape, fNameOutput)\n\u001b[1;32m    109\u001b[0m \u001b[38;5;28;01mreturn\u001b[39;00m op\n",
      "\u001b[0;31mTypeError\u001b[0m: none of the 5 overloaded methods succeeded. Full details:\n  ROperator_Reshape::ROperator_Reshape(TMVA::Experimental::SOFIE::ROperator_Reshape&&) =>\n    TypeError: could not convert argument 1\n  ROperator_Reshape::ROperator_Reshape(const TMVA::Experimental::SOFIE::ROperator_Reshape&) =>\n    TypeError: could not convert argument 1\n  ROperator_Reshape::ROperator_Reshape() =>\n    TypeError: takes at most 0 arguments (1 given)\n  ROperator_Reshape::ROperator_Reshape(TMVA::Experimental::SOFIE::ReshapeOpMode opMode, vector<int64_t> attrAxes, string nameData, string nameOutput) =>\n    TypeError: takes at least 4 arguments (1 given)\n  ROperator_Reshape::ROperator_Reshape(TMVA::Experimental::SOFIE::ReshapeOpMode opMode, int attr_value, string nameData, string nameShape, string nameOutput) =>\n    TypeError: takes at least 5 arguments (1 given)"
     ]
    }
   ],
   "source": [
    "modelFile = \"Flatten_test.h5\"\n",
    "rmodel = ROOT.TMVA.Experimental.SOFIE.RModelParser_Keras.Parse(modelFile)\n",
    "generatedHeaderFile = modelFile.replace(\".h5\",\".hxx\")\n",
    "print(\"Generating inference code for the Keras model from \",modelFile,\"in the header \", generatedHeaderFile)\n",
    "rmodel.Generate()\n",
    "rmodel.OutputGenerated(generatedHeaderFile)"
   ]
  },
  {
   "cell_type": "code",
   "execution_count": null,
   "id": "80081552",
   "metadata": {},
   "outputs": [
    {
     "ename": "UnboundLocalError",
     "evalue": "local variable 'fAttrDilations' referenced before assignment",
     "output_type": "error",
     "traceback": [
      "\u001b[0;31m---------------------------------------------------------------------------\u001b[0m",
      "\u001b[0;31mUnboundLocalError\u001b[0m                         Traceback (most recent call last)",
      "Cell \u001b[0;32mIn[23], line 2\u001b[0m\n\u001b[1;32m      1\u001b[0m modelFile \u001b[38;5;241m=\u001b[39m \u001b[38;5;124m\"\u001b[39m\u001b[38;5;124mMaxPool_2D_test.h5\u001b[39m\u001b[38;5;124m\"\u001b[39m\n\u001b[0;32m----> 2\u001b[0m rmodel \u001b[38;5;241m=\u001b[39m \u001b[43mROOT\u001b[49m\u001b[38;5;241;43m.\u001b[39;49m\u001b[43mTMVA\u001b[49m\u001b[38;5;241;43m.\u001b[39;49m\u001b[43mExperimental\u001b[49m\u001b[38;5;241;43m.\u001b[39;49m\u001b[43mSOFIE\u001b[49m\u001b[38;5;241;43m.\u001b[39;49m\u001b[43mRModelParser_Keras\u001b[49m\u001b[38;5;241;43m.\u001b[39;49m\u001b[43mParse\u001b[49m\u001b[43m(\u001b[49m\u001b[43mmodelFile\u001b[49m\u001b[43m)\u001b[49m\n\u001b[1;32m      3\u001b[0m generatedHeaderFile \u001b[38;5;241m=\u001b[39m modelFile\u001b[38;5;241m.\u001b[39mreplace(\u001b[38;5;124m\"\u001b[39m\u001b[38;5;124m.h5\u001b[39m\u001b[38;5;124m\"\u001b[39m,\u001b[38;5;124m\"\u001b[39m\u001b[38;5;124m.hxx\u001b[39m\u001b[38;5;124m\"\u001b[39m)\n\u001b[1;32m      4\u001b[0m \u001b[38;5;28mprint\u001b[39m(\u001b[38;5;124m\"\u001b[39m\u001b[38;5;124mGenerating inference code for the Keras model from \u001b[39m\u001b[38;5;124m\"\u001b[39m,modelFile,\u001b[38;5;124m\"\u001b[39m\u001b[38;5;124min the header \u001b[39m\u001b[38;5;124m\"\u001b[39m, generatedHeaderFile)\n",
      "File \u001b[0;32m~/RootDevelopment/build/lib/ROOT/_pythonization/_tmva/_rmodel_keras.py:892\u001b[0m, in \u001b[0;36mRModelParser_Keras.Parse\u001b[0;34m(filename)\u001b[0m\n\u001b[1;32m    890\u001b[0m     \u001b[38;5;28;01melif\u001b[39;00m (fLayerType \u001b[38;5;241m==\u001b[39m \u001b[38;5;124m\"\u001b[39m\u001b[38;5;124mConv1D\u001b[39m\u001b[38;5;124m\"\u001b[39m \u001b[38;5;129;01mor\u001b[39;00m fLayerType \u001b[38;5;241m==\u001b[39m \u001b[38;5;124m\"\u001b[39m\u001b[38;5;124mConv2D\u001b[39m\u001b[38;5;124m\"\u001b[39m \u001b[38;5;129;01mor\u001b[39;00m fLayerType \u001b[38;5;241m==\u001b[39m \u001b[38;5;124m\"\u001b[39m\u001b[38;5;124mConv3D\u001b[39m\u001b[38;5;124m\"\u001b[39m):\n\u001b[1;32m    891\u001b[0m         rmodel\u001b[38;5;241m.\u001b[39mAddBlasRoutines({\u001b[38;5;124m\"\u001b[39m\u001b[38;5;124mGemm\u001b[39m\u001b[38;5;124m\"\u001b[39m, \u001b[38;5;124m\"\u001b[39m\u001b[38;5;124mAxpy\u001b[39m\u001b[38;5;124m\"\u001b[39m})\n\u001b[0;32m--> 892\u001b[0m     rmodel \u001b[38;5;241m=\u001b[39m \u001b[43madd_layer_into_RModel\u001b[49m\u001b[43m(\u001b[49m\u001b[43mrmodel\u001b[49m\u001b[43m,\u001b[49m\u001b[43m \u001b[49m\u001b[43mlayer_data\u001b[49m\u001b[43m)\u001b[49m\n\u001b[1;32m    894\u001b[0m \u001b[38;5;66;03m# Extracting model's weights\u001b[39;00m\n\u001b[1;32m    895\u001b[0m weight \u001b[38;5;241m=\u001b[39m []\n",
      "File \u001b[0;32m~/RootDevelopment/build/lib/ROOT/_pythonization/_tmva/_rmodel_keras.py:761\u001b[0m, in \u001b[0;36madd_layer_into_RModel\u001b[0;34m(rmodel, layer_data)\u001b[0m\n\u001b[1;32m    759\u001b[0m         outputs[\u001b[38;5;241m0\u001b[39m] \u001b[38;5;241m=\u001b[39m LayerName\u001b[38;5;241m+\u001b[39mfLayerType\n\u001b[1;32m    760\u001b[0m         layer_data[\u001b[38;5;124m'\u001b[39m\u001b[38;5;124mlayerOutput\u001b[39m\u001b[38;5;124m'\u001b[39m] \u001b[38;5;241m=\u001b[39m outputs\n\u001b[0;32m--> 761\u001b[0m rmodel\u001b[38;5;241m.\u001b[39mAddOperatorReference(\u001b[43mmapKerasLayer\u001b[49m\u001b[43m[\u001b[49m\u001b[43mfLayerType\u001b[49m\u001b[43m]\u001b[49m\u001b[43m(\u001b[49m\u001b[43mlayer_data\u001b[49m\u001b[43m)\u001b[49m)\n\u001b[1;32m    762\u001b[0m \u001b[38;5;28;01mif\u001b[39;00m fLayerType \u001b[38;5;241m==\u001b[39m \u001b[38;5;124m'\u001b[39m\u001b[38;5;124mMaxPooling2D\u001b[39m\u001b[38;5;124m'\u001b[39m:\n\u001b[1;32m    763\u001b[0m     \u001b[38;5;28;01mif\u001b[39;00m layer_data[\u001b[38;5;124m'\u001b[39m\u001b[38;5;124mchannels_last\u001b[39m\u001b[38;5;124m'\u001b[39m]:\n",
      "File \u001b[0;32m~/RootDevelopment/build/lib/ROOT/_pythonization/_tmva/_rmodel_keras.py:551\u001b[0m, in \u001b[0;36mMakeKerasPooling\u001b[0;34m(layer)\u001b[0m\n\u001b[1;32m    547\u001b[0m \u001b[38;5;28;01melse\u001b[39;00m:\n\u001b[1;32m    548\u001b[0m     \u001b[38;5;28;01mraise\u001b[39;00m \u001b[38;5;167;01mRuntimeError\u001b[39;00m(\n\u001b[1;32m    549\u001b[0m         \u001b[38;5;124m\"\u001b[39m\u001b[38;5;124mTMVA::SOFIE - RModel Keras Parser doesn\u001b[39m\u001b[38;5;124m'\u001b[39m\u001b[38;5;124mt yet supports Convolution layer with padding \u001b[39m\u001b[38;5;124m\"\u001b[39m \u001b[38;5;241m+\u001b[39m fKerasPadding\n\u001b[1;32m    550\u001b[0m     )\n\u001b[0;32m--> 551\u001b[0m pool_atrr\u001b[38;5;241m.\u001b[39mdilations \u001b[38;5;241m=\u001b[39m \u001b[38;5;28mlist\u001b[39m(\u001b[43mfAttrDilations\u001b[49m)\n\u001b[1;32m    552\u001b[0m pool_atrr\u001b[38;5;241m.\u001b[39mstrides \u001b[38;5;241m=\u001b[39m \u001b[38;5;28mlist\u001b[39m(fAttrStrides)\n\u001b[1;32m    553\u001b[0m pool_atrr\u001b[38;5;241m.\u001b[39mpads \u001b[38;5;241m=\u001b[39m fpads\n",
      "\u001b[0;31mUnboundLocalError\u001b[0m: local variable 'fAttrDilations' referenced before assignment"
     ]
    }
   ],
   "source": [
    "modelFile = \"MaxPool_2D_test.h5\"\n",
    "rmodel = ROOT.TMVA.Experimental.SOFIE.RModelParser_Keras.Parse(modelFile)\n",
    "generatedHeaderFile = modelFile.replace(\".h5\",\".hxx\")\n",
    "print(\"Generating inference code for the Keras model from \",modelFile,\"in the header \", generatedHeaderFile)\n",
    "rmodel.Generate()\n",
    "rmodel.OutputGenerated(generatedHeaderFile)"
   ]
  },
  {
   "cell_type": "code",
   "execution_count": null,
   "id": "b2fb8b4a",
   "metadata": {},
   "outputs": [],
   "source": []
  }
 ],
 "metadata": {
  "kernelspec": {
   "display_name": "py310",
   "language": "python",
   "name": "python3"
  },
  "language_info": {
   "codemirror_mode": {
    "name": "ipython",
    "version": 3
   },
   "file_extension": ".py",
   "mimetype": "text/x-python",
   "name": "python",
   "nbconvert_exporter": "python",
   "pygments_lexer": "ipython3",
   "version": "3.10.18"
  }
 },
 "nbformat": 4,
 "nbformat_minor": 5
}
